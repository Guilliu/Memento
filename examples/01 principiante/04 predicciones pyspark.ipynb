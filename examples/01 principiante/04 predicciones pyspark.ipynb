{
 "cells": [
  {
   "cell_type": "markdown",
   "id": "63e6bd53-2731-4ffe-9c47-aab359dfa56c",
   "metadata": {},
   "source": [
    "**Vemos cómo utilizar memento para entrenar y predecir sobre dataframes de spark**"
   ]
  },
  {
   "cell_type": "markdown",
   "id": "56189b44-05cb-4f6a-a273-df7fb7ee9c3c",
   "metadata": {},
   "source": [
    "---"
   ]
  },
  {
   "cell_type": "markdown",
   "id": "e44079b7-20fc-44d5-a0d3-22c58361ce5a",
   "metadata": {},
   "source": [
    "<span style='color:blue'>Dado que memento trabaja con librerías no-distribuidas (numpy, pandas, statsmodels...) no es capaz de trabajar con dataframes de spark 😥"
   ]
  },
  {
   "cell_type": "markdown",
   "id": "57af3f93-5366-4a88-ae98-c371725433a2",
   "metadata": {},
   "source": [
    "<span style=color:red>**En este notebook vamos a mostrar como samplear un dataframe de spark y trabajar con esa muestra reducida ya en pandas**"
   ]
  },
  {
   "cell_type": "markdown",
   "id": "24ace984-8df2-4056-92eb-04e4f398a573",
   "metadata": {},
   "source": [
    "<span style='color:blue'>Importamos los módulos"
   ]
  },
  {
   "cell_type": "code",
   "execution_count": 1,
   "id": "f3a3f8a5-b965-409e-9709-a5d3603c86a2",
   "metadata": {},
   "outputs": [],
   "source": [
    "import sys, numpy as np, pandas as pd, memento as me"
   ]
  },
  {
   "cell_type": "markdown",
   "id": "8a07cc28-474e-49dd-a960-c6e82272fb1a",
   "metadata": {},
   "source": [
    "<span style='color:blue'>Arrancamos sesión de spark"
   ]
  },
  {
   "cell_type": "code",
   "execution_count": 2,
   "id": "d986102e-cae4-44c7-8ec8-5a47bece0ff3",
   "metadata": {},
   "outputs": [],
   "source": [
    "# spark = # Función para arrancar sesión de spark"
   ]
  },
  {
   "cell_type": "markdown",
   "id": "9c0bf52e-0e64-41f5-bfe5-dd5fa34b9bb9",
   "metadata": {},
   "source": [
    "<span style='color:blue'>Supongamos que tenemos un dataframe muy grande"
   ]
  },
  {
   "cell_type": "code",
   "execution_count": 3,
   "id": "12a7cb58-7804-4d8d-a44b-42ecffde3243",
   "metadata": {},
   "outputs": [],
   "source": [
    "# base = spark.read.load('')\n",
    "# print('La tabla total tiene {} filas y {} columnas'.format(base.count(), len(base.columns)))"
   ]
  },
  {
   "cell_type": "markdown",
   "id": "f0f48794-8d36-4a32-86c9-eb335ecf7474",
   "metadata": {},
   "source": [
    "<span style='color:blue'>De la variable objetivo hay aproximadamente un X% de 1s"
   ]
  },
  {
   "cell_type": "code",
   "execution_count": 4,
   "id": "42765889-dd5e-40ba-bb07-b82a75cc0615",
   "metadata": {},
   "outputs": [],
   "source": [
    "# target_name = ''"
   ]
  },
  {
   "cell_type": "code",
   "execution_count": 5,
   "id": "f8dbd7e8-45cb-4369-beb0-e1e7d7ef8895",
   "metadata": {},
   "outputs": [],
   "source": [
    "# me.proc_freq(base, 'target_name)"
   ]
  },
  {
   "cell_type": "markdown",
   "id": "6a1e52b0-f90a-4948-bea3-76e34e2b6b9e",
   "metadata": {},
   "source": [
    "<span style='color:blue'>Muestreamos nuestra tabla cogiendo el 10% con una semilla fija"
   ]
  },
  {
   "cell_type": "code",
   "execution_count": 6,
   "id": "2013e07c-2985-4439-b7b0-8369ac621599",
   "metadata": {},
   "outputs": [],
   "source": [
    "# muestra = base.sample(fraction=0.1, seed=123)\n",
    "# print('La muestra tiene {} filas y {} columnas'.format(muestra.count(), len(muestra.columns)))"
   ]
  },
  {
   "cell_type": "code",
   "execution_count": 7,
   "id": "7832f7d2-4513-4b5b-b198-3e75849761b2",
   "metadata": {},
   "outputs": [],
   "source": [
    "# me.proc_freq(muestra, target_name)"
   ]
  },
  {
   "cell_type": "markdown",
   "id": "3dbedc1e-14af-4458-954c-b554e7f7c9b9",
   "metadata": {},
   "source": [
    "<span style='color:blue'>Pasamos a pandas y aplicamos memento"
   ]
  },
  {
   "cell_type": "code",
   "execution_count": 8,
   "id": "fe99cb0d-b27a-4b32-ad4d-9971ccd1df3c",
   "metadata": {},
   "outputs": [],
   "source": [
    "# # df = muestra.toPandas()\n",
    "# X, y = df.drop(target_name, axis=1), df.target_name.values"
   ]
  },
  {
   "cell_type": "code",
   "execution_count": 9,
   "id": "2faf443c-9e8e-4322-b6a1-e566d4104760",
   "metadata": {},
   "outputs": [],
   "source": [
    "# modelo = me.Scorecard().fit(X, y)"
   ]
  },
  {
   "cell_type": "markdown",
   "id": "06de2b78-46ba-4c26-9dd8-290be873cbb0",
   "metadata": {},
   "source": [
    "<span style='color:blue'>Vemos que está muestra no tenía ningún tipo de sesgo y los resultados son extrapolables al total de la base"
   ]
  },
  {
   "cell_type": "code",
   "execution_count": 10,
   "id": "0cbb5764-6e2a-4c92-9589-791dfe18248c",
   "metadata": {},
   "outputs": [],
   "source": [
    "# base2 = me.predict_pyspark(base, modelo.features, modelo.pyspark_formula, target_name=target_name)\n",
    "# ks, gini = me.metrics_pyspark(base2, target_name, ['ks', 'gini'], True)"
   ]
  },
  {
   "cell_type": "code",
   "execution_count": null,
   "id": "d14ec8d5-4ccd-4379-a96c-9a77efef3936",
   "metadata": {},
   "outputs": [],
   "source": []
  },
  {
   "cell_type": "code",
   "execution_count": null,
   "id": "b024fbb7-1044-461d-8298-9cdeed76fcb4",
   "metadata": {},
   "outputs": [],
   "source": []
  }
 ],
 "metadata": {
  "kernelspec": {
   "display_name": "Python 3 (ipykernel)",
   "language": "python",
   "name": "python3"
  },
  "language_info": {
   "codemirror_mode": {
    "name": "ipython",
    "version": 3
   },
   "file_extension": ".py",
   "mimetype": "text/x-python",
   "name": "python",
   "nbconvert_exporter": "python",
   "pygments_lexer": "ipython3",
   "version": "3.11.7"
  }
 },
 "nbformat": 4,
 "nbformat_minor": 5
}
